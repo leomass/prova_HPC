{
 "cells": [
  {
   "cell_type": "code",
   "execution_count": null,
   "id": "5735e7e3",
   "metadata": {},
   "outputs": [],
   "source": [
    "'''import torch\n",
    "from torchvision.models import efficientnet_b0\n",
    "from pytorch_benchmark import benchmark\n",
    "\n",
    "\n",
    "model = efficientnet_b0().to(\"cpu\")  # Model device sets benchmarking device\n",
    "sample = torch.randn(8, 3, 224, 224)  # (B, C, H, W)\n",
    "results = benchmark(model, sample, num_runs=100)\n",
    "\n",
    "print(results)'''"
   ]
  },
  {
   "cell_type": "code",
   "execution_count": null,
   "id": "eee69ced",
   "metadata": {},
   "outputs": [],
   "source": [
    "'''model = efficientnet_b0().to(\"cuda\")  # Model device sets benchmarking device\n",
    "sample = torch.randn(8, 3, 224, 224)  # (B, C, H, W)\n",
    "results = benchmark(model, sample, num_runs=100)\n",
    "\n",
    "print(results)'''"
   ]
  },
  {
   "cell_type": "code",
   "execution_count": null,
   "id": "c62ba41a",
   "metadata": {},
   "outputs": [],
   "source": [
    "a = 450\n",
    "print(a)"
   ]
  }
 ],
 "metadata": {
  "language_info": {
   "name": "python"
  }
 },
 "nbformat": 4,
 "nbformat_minor": 5
}
