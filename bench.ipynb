{
 "cells": [
  {
   "cell_type": "code",
   "execution_count": null,
   "id": "5735e7e3",
   "metadata": {},
   "outputs": [],
   "source": [
    "import torch\n",
    "from torchvision.models import efficientnet_b0\n",
    "from pytorch_benchmark import benchmark\n",
    "\n",
    "\n",
    "model = efficientnet_b0().to(\"gpu\")  # Model device sets benchmarking device\n",
    "sample = torch.randn(8, 3, 224, 224)  # (B, C, H, W)\n",
    "results = benchmark(model, sample, num_runs=100)"
   ]
  }
 ],
 "metadata": {
  "language_info": {
   "name": "python"
  }
 },
 "nbformat": 4,
 "nbformat_minor": 5
}
